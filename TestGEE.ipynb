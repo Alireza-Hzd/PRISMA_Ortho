{
 "cells": [
  {
   "cell_type": "code",
   "execution_count": 2,
   "metadata": {},
   "outputs": [
    {
     "data": {
      "application/vnd.jupyter.widget-view+json": {
       "model_id": "137dbb9ae5f24f3ab09544dfd5c0f274",
       "version_major": 2,
       "version_minor": 0
      },
      "text/plain": [
       "Map(center=[42, 12], controls=(WidgetControl(options=['position', 'transparent_bg'], widget=HBox(children=(Tog…"
      ]
     },
     "metadata": {},
     "output_type": "display_data"
    }
   ],
   "source": [
    "import ee\n",
    "import geemap\n",
    "\n",
    "ee.Initialize()\n",
    "\n",
    "region = ee.Geometry.Rectangle([12,42,13,43]) \n",
    "\n",
    "\n",
    "Map = geemap.Map(center=(42, 12), zoom=10)\n",
    "Map.addLayer(region)\n",
    "Map"
   ]
  },
  {
   "cell_type": "code",
   "execution_count": 3,
   "metadata": {
    "pycharm": {
     "name": "#%%\n"
    }
   },
   "outputs": [],
   "source": [
    "def get_best_s2_image(aoi, start_date, end_date):\n",
    "    # Import and filter S2 SR.\n",
    "    s2_sr_col = (ee.ImageCollection('COPERNICUS/S2_SR')\n",
    "                 .filterBounds(aoi)\n",
    "                 .filterDate(start_date, end_date))\n",
    "                 #.filter(ee.Filter.lte('CLOUDY_PIXEL_PERCENTAGE', CLOUD_FILTER)))\n",
    "\n",
    "    # Import and filter s2cloudless.\n",
    "    s2_cloudless_col = (ee.ImageCollection('COPERNICUS/S2_CLOUD_PROBABILITY')\n",
    "                        .filterBounds(aoi)\n",
    "                        .filterDate(start_date, end_date))\n",
    "\n",
    "    # Join the filtered s2cloudless collection to the SR collection by the 'system:index' property.\n",
    "    imgs = ee.ImageCollection(ee.Join.saveFirst('s2cloudless').apply(**{\n",
    "        'primary': s2_sr_col,\n",
    "        'secondary': s2_cloudless_col,\n",
    "        'condition': ee.Filter.equals(**{\n",
    "            'leftField': 'system:index',\n",
    "            'rightField': 'system:index'\n",
    "        })\n",
    "    }))\n",
    "\n",
    "    def get_clouds_per(img):\n",
    "\n",
    "        img = ee.Image(img.get('s2cloudless'))\n",
    "\n",
    "        eo = ee.Dictionary(img.reduceRegion(ee.Reducer.median(), aoi, 100))\n",
    "\n",
    "        return ee.Feature(None, {'prob': eo.get('probability')})\n",
    "\n",
    "    if imgs.size().getInfo() > 0:\n",
    "        # Get the best image id sorting respect to the cloud %\n",
    "        best_image_id = imgs.map(get_clouds_per).sort('prob').first().id().getInfo()\n",
    "\n",
    "        best_image = ee.Image(\"COPERNICUS/S2_SR/\" + best_image_id).addBands(\n",
    "            ee.Image(\"COPERNICUS/S2_CLOUD_PROBABILITY/\" + best_image_id))\n",
    "\n",
    "        return best_image\n",
    "    else:\n",
    "        return None\n"
   ]
  },
  {
   "cell_type": "markdown",
   "metadata": {},
   "source": [
    "Ciao Notebook\n"
   ]
  },
  {
   "cell_type": "code",
   "execution_count": null,
   "metadata": {},
   "outputs": [],
   "source": [
    "t0 = ee.Date(2020-03-01)\n",
    "t1 = ee.Date(2020-06-01)\n",
    "\n",
    "aoi = ee.Geometry.Rectangle([12,42,13,43]) "
   ]
  }
 ],
 "metadata": {
  "kernelspec": {
   "display_name": "Python 3 (ipykernel)",
   "language": "python",
   "name": "python3"
  },
  "language_info": {
   "codemirror_mode": {
    "name": "ipython",
    "version": 3
   },
   "file_extension": ".py",
   "mimetype": "text/x-python",
   "name": "python",
   "nbconvert_exporter": "python",
   "pygments_lexer": "ipython3",
   "version": "3.9.16"
  }
 },
 "nbformat": 4,
 "nbformat_minor": 1
}